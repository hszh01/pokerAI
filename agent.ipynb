{
 "cells": [
  {
   "cell_type": "code",
   "execution_count": 2,
   "metadata": {},
   "outputs": [
    {
     "ename": "KeyError",
     "evalue": "'pot'",
     "output_type": "error",
     "traceback": [
      "\u001b[0;31m---------------------------------------------------------------------------\u001b[0m",
      "\u001b[0;31mKeyError\u001b[0m                                  Traceback (most recent call last)",
      "Cell \u001b[0;32mIn[2], line 40\u001b[0m\n\u001b[1;32m     38\u001b[0m         action \u001b[38;5;241m=\u001b[39m \u001b[38;5;28;01mNone\u001b[39;00m\n\u001b[1;32m     39\u001b[0m     \u001b[38;5;28;01melse\u001b[39;00m:\n\u001b[0;32m---> 40\u001b[0m         action \u001b[38;5;241m=\u001b[39m \u001b[43mpolicy\u001b[49m\u001b[43m(\u001b[49m\u001b[43mobservation\u001b[49m\u001b[43m,\u001b[49m\u001b[43m \u001b[49m\u001b[43magent\u001b[49m\u001b[43m)\u001b[49m\n\u001b[1;32m     41\u001b[0m     env\u001b[38;5;241m.\u001b[39mstep(action)\n\u001b[1;32m     43\u001b[0m env\u001b[38;5;241m.\u001b[39mclose()\n",
      "Cell \u001b[0;32mIn[2], line 24\u001b[0m, in \u001b[0;36mpolicy\u001b[0;34m(observation, agent)\u001b[0m\n\u001b[1;32m     22\u001b[0m \u001b[38;5;66;03m# Calculate hand strength and pot odds for each valid action\u001b[39;00m\n\u001b[1;32m     23\u001b[0m action_strengths \u001b[38;5;241m=\u001b[39m [hand_strength(observation) \u001b[38;5;28;01mfor\u001b[39;00m _ \u001b[38;5;129;01min\u001b[39;00m valid_actions]\n\u001b[0;32m---> 24\u001b[0m action_pot_odds \u001b[38;5;241m=\u001b[39m [pot_odds(observation, {\u001b[38;5;124m'\u001b[39m\u001b[38;5;124mamount\u001b[39m\u001b[38;5;124m'\u001b[39m: amount}) \u001b[38;5;28;01mfor\u001b[39;00m amount \u001b[38;5;129;01min\u001b[39;00m valid_actions]\n\u001b[1;32m     26\u001b[0m \u001b[38;5;66;03m# Combine hand strength and pot odds to determine the best action\u001b[39;00m\n\u001b[1;32m     27\u001b[0m action_scores \u001b[38;5;241m=\u001b[39m [strength \u001b[38;5;241m*\u001b[39m pot_odd \u001b[38;5;28;01mfor\u001b[39;00m strength, pot_odd \u001b[38;5;129;01min\u001b[39;00m \u001b[38;5;28mzip\u001b[39m(action_strengths, action_pot_odds)]\n",
      "Cell \u001b[0;32mIn[2], line 24\u001b[0m, in \u001b[0;36m<listcomp>\u001b[0;34m(.0)\u001b[0m\n\u001b[1;32m     22\u001b[0m \u001b[38;5;66;03m# Calculate hand strength and pot odds for each valid action\u001b[39;00m\n\u001b[1;32m     23\u001b[0m action_strengths \u001b[38;5;241m=\u001b[39m [hand_strength(observation) \u001b[38;5;28;01mfor\u001b[39;00m _ \u001b[38;5;129;01min\u001b[39;00m valid_actions]\n\u001b[0;32m---> 24\u001b[0m action_pot_odds \u001b[38;5;241m=\u001b[39m [\u001b[43mpot_odds\u001b[49m\u001b[43m(\u001b[49m\u001b[43mobservation\u001b[49m\u001b[43m,\u001b[49m\u001b[43m \u001b[49m\u001b[43m{\u001b[49m\u001b[38;5;124;43m'\u001b[39;49m\u001b[38;5;124;43mamount\u001b[39;49m\u001b[38;5;124;43m'\u001b[39;49m\u001b[43m:\u001b[49m\u001b[43m \u001b[49m\u001b[43mamount\u001b[49m\u001b[43m}\u001b[49m\u001b[43m)\u001b[49m \u001b[38;5;28;01mfor\u001b[39;00m amount \u001b[38;5;129;01min\u001b[39;00m valid_actions]\n\u001b[1;32m     26\u001b[0m \u001b[38;5;66;03m# Combine hand strength and pot odds to determine the best action\u001b[39;00m\n\u001b[1;32m     27\u001b[0m action_scores \u001b[38;5;241m=\u001b[39m [strength \u001b[38;5;241m*\u001b[39m pot_odd \u001b[38;5;28;01mfor\u001b[39;00m strength, pot_odd \u001b[38;5;129;01min\u001b[39;00m \u001b[38;5;28mzip\u001b[39m(action_strengths, action_pot_odds)]\n",
      "Cell \u001b[0;32mIn[2], line 14\u001b[0m, in \u001b[0;36mpot_odds\u001b[0;34m(observation, action)\u001b[0m\n\u001b[1;32m     11\u001b[0m \u001b[38;5;28;01mdef\u001b[39;00m \u001b[38;5;21mpot_odds\u001b[39m(observation, action):\n\u001b[1;32m     12\u001b[0m     \u001b[38;5;66;03m# Calculate pot odds based on the size of the pot and the cost of the action\u001b[39;00m\n\u001b[1;32m     13\u001b[0m     call_amount \u001b[38;5;241m=\u001b[39m action[\u001b[38;5;124m'\u001b[39m\u001b[38;5;124mamount\u001b[39m\u001b[38;5;124m'\u001b[39m]\n\u001b[0;32m---> 14\u001b[0m     pot_size \u001b[38;5;241m=\u001b[39m \u001b[43mobservation\u001b[49m\u001b[43m[\u001b[49m\u001b[38;5;124;43m'\u001b[39;49m\u001b[38;5;124;43mpot\u001b[39;49m\u001b[38;5;124;43m'\u001b[39;49m\u001b[43m]\u001b[49m\n\u001b[1;32m     15\u001b[0m     \u001b[38;5;28;01mreturn\u001b[39;00m pot_size \u001b[38;5;241m/\u001b[39m (pot_size \u001b[38;5;241m+\u001b[39m call_amount)\n",
      "\u001b[0;31mKeyError\u001b[0m: 'pot'"
     ]
    }
   ],
   "source": [
    "import numpy as np\n",
    "from pettingzoo.classic import texas_holdem_v4\n",
    "\n",
    "env = texas_holdem_v4.env(render_mode=\"human\")\n",
    "env.reset(seed=42)\n",
    "\n",
    "for agent in env.agent_iter():\n",
    "    observation, reward, termination, truncation, info = env.last()\n",
    "\n",
    "    if termination or truncation:\n",
    "        action = None\n",
    "    else:\n",
    "        mask = observation[\"action_mask\"]\n",
    "        # this is where you would insert your policy\n",
    "        action = env.action_space(agent).sample(mask)\n",
    "\n",
    "    env.step(action)\n",
    "env.close()"
   ]
  },
  {
   "cell_type": "code",
   "execution_count": null,
   "metadata": {},
   "outputs": [],
   "source": []
  }
 ],
 "metadata": {
  "kernelspec": {
   "display_name": "KD",
   "language": "python",
   "name": "python3"
  },
  "language_info": {
   "codemirror_mode": {
    "name": "ipython",
    "version": 3
   },
   "file_extension": ".py",
   "mimetype": "text/x-python",
   "name": "python",
   "nbconvert_exporter": "python",
   "pygments_lexer": "ipython3",
   "version": "3.8.18"
  }
 },
 "nbformat": 4,
 "nbformat_minor": 2
}
